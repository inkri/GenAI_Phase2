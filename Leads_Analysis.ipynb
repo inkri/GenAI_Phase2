{
 "cells": [
  {
   "cell_type": "markdown",
   "id": "e03a5655-caa9-40de-bd21-9c7bd62b2aff",
   "metadata": {},
   "source": [
    "## We can analyze website user data and marketing data to uncover patterns that help improve campaign effectiveness."
   ]
  },
  {
   "cell_type": "code",
   "execution_count": null,
   "id": "b8337282-e175-4cb1-b9bc-f6a54750c45b",
   "metadata": {},
   "outputs": [],
   "source": []
  },
  {
   "cell_type": "markdown",
   "id": "f66e4884-bfe5-42fc-aac2-58a41bcb6ab9",
   "metadata": {},
   "source": [
    "# 1. User Segmentation & Behavior Analysis"
   ]
  },
  {
   "cell_type": "markdown",
   "id": "97cd4504-edae-41f4-bb5f-f766b9d4ad5b",
   "metadata": {},
   "source": [
    "## Goal: Identify distinct user groups based on their behavior.\n",
    "\n",
    "## Approach: \n",
    "### 1. Cluster users using K-Means based on page views, session duration, clicks, etc.\n",
    "### 2. Compare engagement metrics across different segments."
   ]
  },
  {
   "cell_type": "code",
   "execution_count": null,
   "id": "52334054-f50c-4220-9b14-30ea0b4a8141",
   "metadata": {},
   "outputs": [],
   "source": [
    "import pandas as pd\n",
    "from sklearn.cluster import KMeans\n",
    "from sklearn.preprocessing import StandardScaler\n",
    "\n",
    "# Load website user data\n",
    "df = pd.read_csv(\"website_users.csv\")\n",
    "\n",
    "# Select relevant features\n",
    "features = ['page_views', 'session_duration', 'clicks', 'conversions']\n",
    "X = df[features]\n",
    "\n",
    "# Normalize data\n",
    "scaler = StandardScaler()\n",
    "X_scaled = scaler.fit_transform(X)\n",
    "\n",
    "# Apply KMeans clustering\n",
    "kmeans = KMeans(n_clusters=3, random_state=42)\n",
    "df['cluster'] = kmeans.fit_predict(X_scaled)\n",
    "\n",
    "# Analyze clusters\n",
    "print(df.groupby('cluster').mean())"
   ]
  },
  {
   "cell_type": "code",
   "execution_count": null,
   "id": "a8296192-a222-4e7d-9a02-acef48b5d187",
   "metadata": {},
   "outputs": [],
   "source": []
  },
  {
   "cell_type": "markdown",
   "id": "3fc267fd-107c-4a51-969b-680b2a189b01",
   "metadata": {},
   "source": [
    "# 2. Marketing Attribution Analysis"
   ]
  },
  {
   "cell_type": "markdown",
   "id": "cf1f7a0c-8c11-4d24-ba6c-aba42cae6ed6",
   "metadata": {},
   "source": [
    "## Goal: Determine which marketing channels drive the most conversions.\n",
    "\n",
    "## Approach: 1. Use Multi-Touch Attribution models (First-Touch, Last-Touch, Linear Attribution)."
   ]
  },
  {
   "cell_type": "code",
   "execution_count": null,
   "id": "abe931a0-8776-4a8c-aa94-1adb65280e85",
   "metadata": {},
   "outputs": [],
   "source": [
    "df = pd.read_csv(\"marketing_data.csv\")\n",
    "\n",
    "# Assign attribution to first and last touchpoints\n",
    "df['first_touch'] = df.groupby('lead_id')['channel'].transform('first')\n",
    "df['last_touch'] = df.groupby('lead_id')['channel'].transform('last')\n",
    "\n",
    "# Attribution analysis\n",
    "first_touch_counts = df['first_touch'].value_counts()\n",
    "last_touch_counts = df['last_touch'].value_counts()\n",
    "\n",
    "print(\"First Touch Attribution:\\n\", first_touch_counts)\n",
    "print(\"\\nLast Touch Attribution:\\n\", last_touch_counts)\n"
   ]
  },
  {
   "cell_type": "code",
   "execution_count": null,
   "id": "42a73d0d-0160-485f-a161-fc18a4f35a01",
   "metadata": {},
   "outputs": [],
   "source": []
  },
  {
   "cell_type": "markdown",
   "id": "d71d0d33-e35c-43f8-8ec0-1efb87322f82",
   "metadata": {},
   "source": [
    "# 3. Lead Scoring Using Machine Learning"
   ]
  },
  {
   "cell_type": "markdown",
   "id": "efb8f786-bb6c-4c88-930b-fe4eb0114cba",
   "metadata": {},
   "source": [
    "## Goal: Predict the likelihood of a lead converting.\n",
    "## Approach: Train a logistic regression model to predict conversions."
   ]
  },
  {
   "cell_type": "code",
   "execution_count": null,
   "id": "d60883fa-616f-4671-9514-308cfb2a454a",
   "metadata": {},
   "outputs": [],
   "source": [
    "from sklearn.model_selection import train_test_split\n",
    "from sklearn.ensemble import RandomForestClassifier\n",
    "from sklearn.metrics import classification_report\n",
    "\n",
    "df = pd.read_csv(\"leads_data.csv\")\n",
    "\n",
    "# Prepare data\n",
    "X = df[['email_open_rate', 'event_attended', 'ad_clicks']]\n",
    "y = df['converted']  # Binary: 1 for converted, 0 for not\n",
    "\n",
    "X_train, X_test, y_train, y_test = train_test_split(X, y, test_size=0.2, random_state=42)\n",
    "\n",
    "# Train model\n",
    "clf = RandomForestClassifier(n_estimators=100, random_state=42)\n",
    "clf.fit(X_train, y_train)\n",
    "\n",
    "# Evaluate model\n",
    "y_pred = clf.predict(X_test)\n",
    "print(classification_report(y_test, y_pred))"
   ]
  },
  {
   "cell_type": "code",
   "execution_count": null,
   "id": "b1bb1eb4-f555-4aac-bdf4-9ef8a0a0d064",
   "metadata": {},
   "outputs": [],
   "source": []
  },
  {
   "cell_type": "markdown",
   "id": "cd920d82-cc6a-4d84-ab24-33248fdd9874",
   "metadata": {},
   "source": [
    "# 4. Website Funnel Drop-Off Analysis"
   ]
  },
  {
   "cell_type": "markdown",
   "id": "c167a176-c035-4ef2-a868-379840cd28b1",
   "metadata": {},
   "source": [
    "## Goal: Identify where users drop off in the conversion funnel.\n",
    "## Approach: Analyze drop-off rates at different funnel stages (Landing → Product Page → Checkout → Purchase)."
   ]
  },
  {
   "cell_type": "code",
   "execution_count": null,
   "id": "93af1121-81eb-42e5-a913-bce82adcc00b",
   "metadata": {},
   "outputs": [],
   "source": [
    "df = pd.read_csv(\"website_funnel.csv\")\n",
    "\n",
    "# Calculate conversion rates\n",
    "df['dropoff_rate'] = df['visits'].pct_change().abs()\n",
    "print(df[['stage', 'dropoff_rate']])"
   ]
  },
  {
   "cell_type": "code",
   "execution_count": null,
   "id": "a95e38fb-8e84-42c0-9a1e-ccceeb00a1b2",
   "metadata": {},
   "outputs": [],
   "source": []
  },
  {
   "cell_type": "markdown",
   "id": "02903a20-0f2b-4309-b7cb-ff90c40f1c65",
   "metadata": {},
   "source": [
    "# 5. Time Series Analysis for Campaign Effectiveness"
   ]
  },
  {
   "cell_type": "markdown",
   "id": "f01a99bd-8cf0-4ae5-bb73-4afbea568dca",
   "metadata": {},
   "source": [
    "## Goal: Find trends in conversions based on campaigns over time.\n",
    "## Approach: Use Prophet for time series forecasting to predict future lead conversions."
   ]
  },
  {
   "cell_type": "code",
   "execution_count": null,
   "id": "8124e4af-901b-44d0-a00b-46302bb8d0b4",
   "metadata": {},
   "outputs": [],
   "source": [
    "from fbprophet import Prophet\n",
    "\n",
    "df = pd.read_csv(\"campaign_data.csv\")\n",
    "df = df[['date', 'conversions']].rename(columns={'date': 'ds', 'conversions': 'y'})\n",
    "\n",
    "# Train forecasting model\n",
    "model = Prophet()\n",
    "model.fit(df)\n",
    "\n",
    "future = model.make_future_dataframe(periods=30)\n",
    "forecast = model.predict(future)\n",
    "\n",
    "# Plot forecast\n",
    "model.plot(forecast)\n"
   ]
  },
  {
   "cell_type": "code",
   "execution_count": null,
   "id": "59c0a0da-ad0a-4b3f-b888-67be057fe9df",
   "metadata": {},
   "outputs": [],
   "source": []
  },
  {
   "cell_type": "markdown",
   "id": "703cc413-b225-4055-a9b4-2c469fe71974",
   "metadata": {},
   "source": [
    "# 6. Identifying Interests via Content Engagement"
   ]
  },
  {
   "cell_type": "markdown",
   "id": "473c2f4d-1a39-4a42-8da9-d3c15aa904cd",
   "metadata": {},
   "source": [
    "## Goal: Analyze which content topics attract different segments of users.\n",
    "\n",
    "## Approach: Track most visited blog categories per lead. and Use Topic Modeling (LDA) on blog post visits."
   ]
  },
  {
   "cell_type": "code",
   "execution_count": null,
   "id": "cc5c70f4-5ea8-435c-92d2-cd2637cc0e00",
   "metadata": {},
   "outputs": [],
   "source": [
    "from sklearn.feature_extraction.text import CountVectorizer\n",
    "from sklearn.decomposition import LatentDirichletAllocation\n",
    "\n",
    "# Sample blog visit data\n",
    "df = pd.DataFrame({\n",
    "    'lead_id': [1, 2, 3, 4, 5, 6],\n",
    "    'visited_blogs': [\n",
    "        \"AI trends, Deep Learning, NLP\",\n",
    "        \"Marketing Analytics, SEO\",\n",
    "        \"AI trends, Computer Vision\",\n",
    "        \"Customer Retention, UX Design\",\n",
    "        \"NLP, Chatbots, AI trends\",\n",
    "        \"Email Marketing, CRM\"\n",
    "    ]\n",
    "})\n",
    "\n",
    "# Convert text data into numerical representation\n",
    "vectorizer = CountVectorizer()\n",
    "X = vectorizer.fit_transform(df['visited_blogs'])\n",
    "\n",
    "# Apply LDA\n",
    "lda = LatentDirichletAllocation(n_components=2, random_state=42)\n",
    "topics = lda.fit_transform(X)\n",
    "\n",
    "df['topic'] = topics.argmax(axis=1)\n",
    "print(df[['lead_id', 'topic']])\n"
   ]
  },
  {
   "cell_type": "code",
   "execution_count": null,
   "id": "3012cf68-6776-490b-9509-b8d481d50a46",
   "metadata": {},
   "outputs": [],
   "source": []
  },
  {
   "cell_type": "markdown",
   "id": "3adef1a0-47fa-4560-ac75-2a9d38a36f4a",
   "metadata": {},
   "source": [
    "## 7. Customer Segmentation for Personalized Upselling & Cross-Selling\n",
    "### Goal:  Increases revenue by targeting the right customers with the right products at the right time.\n",
    "\n",
    "### 1: \n",
    "### Segment Customers Based on Digital Footprint & Purchase Behavior:\n",
    "### Identify high-value accounts based on past purchases, website interactions, and email engagement.\n",
    "### Use Salesforce data to classify customers into segments (e.g., High-Value, One-Time Buyers, Frequent Buyers).\n",
    "\n",
    "### 2: \n",
    "### Predict Upsell & Cross-Sell Opportunities:\n",
    "### If a customer has purchased Product A, suggest Product B (Cross-Sell).\n",
    "### If a customer is using a Basic Plan, recommend an Enterprise Plan (Upsell).\n",
    "\n",
    "### 3:\n",
    "### Automate Personalized Campaigns in Salesforce:\n",
    "### Send tailored email recommendations based on customer segment.\n",
    "### Use SMS or push notifications for high-value accounts.\n",
    "\n",
    "### Example Insights from Salesforce\n",
    "### Customers who purchased laptops also tend to buy extended warranties (cross-sell).\n",
    "### B2B clients using a starter package are likely to upgrade to premium after 6 months"
   ]
  },
  {
   "cell_type": "code",
   "execution_count": null,
   "id": "899bb9b7-5f60-42b8-a1e5-d64bbc63819c",
   "metadata": {},
   "outputs": [],
   "source": [
    "# Python Implementation for Customer Segmentation\n",
    "import pandas as pd\n",
    "from sklearn.cluster import KMeans\n",
    "\n",
    "# Load Salesforce data (Example: Customer purchase & website activity)\n",
    "df = pd.read_csv(\"customer_data.csv\")\n",
    "\n",
    "# Select features for clustering\n",
    "X = df[['total_purchases', 'avg_order_value', 'website_visits', 'email_clicks']]\n",
    "\n",
    "# Apply K-Means clustering\n",
    "kmeans = KMeans(n_clusters=3, random_state=42)\n",
    "df['customer_segment'] = kmeans.fit_predict(X)\n",
    "\n",
    "# Display customer segments\n",
    "print(df[['customer_name', 'customer_segment']].head())"
   ]
  },
  {
   "cell_type": "code",
   "execution_count": null,
   "id": "de56f585-9eb9-43cf-b703-5738b20ccc07",
   "metadata": {},
   "outputs": [],
   "source": []
  },
  {
   "cell_type": "markdown",
   "id": "01bf8b1f-3315-4d78-a4c3-519514b30fe3",
   "metadata": {},
   "source": [
    "## 8. Churn Prediction & Retention Strategy\n",
    "### Goal: Saves high-value customers before they leave, preventing revenue loss.\n",
    "\n",
    "### a. Identify At-Risk Customers:\n",
    "### Analyze support tickets, login frequency, recent purchases, email engagement from Salesforce.\n",
    "### Flag accounts showing reduced activity or negative interactions.\n",
    "\n",
    "### b. Predict Customer Churn Using ML Models:\n",
    "### Train a churn model using historical churn data.\n",
    "### Identify key risk indicators (e.g., drop in engagement, contract expiration).\n",
    "\n",
    "### c. Proactively Engage Customers:\n",
    "### Offer discounts or loyalty perks to customers likely to churn.\n",
    "### Automate customer success outreach in Salesforce (e.g., Account Managers calling high-risk clients)."
   ]
  },
  {
   "cell_type": "code",
   "execution_count": null,
   "id": "20e85f50-683f-4f08-b19f-5f3143c8ee0b",
   "metadata": {},
   "outputs": [],
   "source": [
    "#Python Implementation for Churn Prediction\n",
    "from sklearn.model_selection import train_test_split\n",
    "from sklearn.ensemble import RandomForestClassifier\n",
    "from sklearn.metrics import accuracy_score\n",
    "\n",
    "# Load Salesforce churn data\n",
    "df = pd.read_csv(\"customer_churn_data.csv\")\n",
    "\n",
    "# Select features and target\n",
    "X = df[['support_tickets', 'login_frequency', 'purchase_history', 'email_response_rate']]\n",
    "y = df['churn']  # 1 = churned, 0 = retained\n",
    "\n",
    "# Split data\n",
    "X_train, X_test, y_train, y_test = train_test_split(X, y, test_size=0.2, random_state=42)\n",
    "\n",
    "# Train churn prediction model\n",
    "model = RandomForestClassifier(n_estimators=100, random_state=42)\n",
    "model.fit(X_train, y_train)\n",
    "\n",
    "# Predict churn and evaluate\n",
    "y_pred = model.predict(X_test)\n",
    "print(f\"Model Accuracy: {accuracy_score(y_test, y_pred):.2f}\")"
   ]
  },
  {
   "cell_type": "code",
   "execution_count": null,
   "id": "e77796f9-ffd5-42ef-83da-cb41604beded",
   "metadata": {},
   "outputs": [],
   "source": []
  },
  {
   "cell_type": "code",
   "execution_count": null,
   "id": "96501e26-a11b-4273-a943-30f9de49ae2e",
   "metadata": {},
   "outputs": [],
   "source": []
  },
  {
   "cell_type": "markdown",
   "id": "308be0eb-af8c-4d6f-8f01-9e043782220a",
   "metadata": {},
   "source": [
    "## Analysis:\tKey Business Takeaways\n",
    "## User Journey Analysis:\tOptimize website navigation for better conversions.\n",
    "## Lead Segmentation:\tTarget segments with tailored campaigns.\n",
    "## Predictive Lead Scoring:\tPrioritize high-converting leads for sales.\n",
    "## Interest-Based Marketing:\tPersonalize marketing messages based on blog engagement.\n",
    "## Drop-Off Analysis:\tFix bottlenecks in the conversion funnel."
   ]
  },
  {
   "cell_type": "code",
   "execution_count": null,
   "id": "80b31e25-bd62-4ddd-ae1d-766c74607bfb",
   "metadata": {},
   "outputs": [],
   "source": []
  },
  {
   "cell_type": "code",
   "execution_count": null,
   "id": "277912e2-fd7a-45fb-9e79-326bd9733ea6",
   "metadata": {},
   "outputs": [],
   "source": []
  },
  {
   "cell_type": "code",
   "execution_count": null,
   "id": "da157ce3-b334-476d-8329-04d56b9b36b0",
   "metadata": {},
   "outputs": [],
   "source": []
  },
  {
   "cell_type": "markdown",
   "id": "c483e043-6e8d-4a54-af1c-85a9ba3a77d0",
   "metadata": {},
   "source": [
    "## Insights You Can Extract\n",
    "\n",
    "### 1. Best Performing Marketing Channels – Identify which campaigns (email, social media, ads) convert best.\n",
    "### 2. User Engagement Patterns – Understand high-activity times and optimize ad placements.\n",
    "### 3. Lead Qualification – Assign scores to leads based on behavior.\n",
    "### 4. Campaign Optimization – Find what type of campaigns work best for different segments.\n",
    "### 5. Predict Future Trends – Use time-series forecasting to predict sales/conversions."
   ]
  },
  {
   "cell_type": "markdown",
   "id": "dcb07777-e7b5-4f22-aab3-d21102d397d0",
   "metadata": {},
   "source": [
    "# Domain: "
   ]
  },
  {
   "cell_type": "markdown",
   "id": "7749bf73-2b9e-4d3a-9f9a-e56933cf2550",
   "metadata": {},
   "source": [
    "### Leads, Contacts, Accounts, and Opportunities Overview\n",
    "\n",
    "### 1. Lead:\tA potential customer (prospect) who has shown interest but has not been qualified yet.\n",
    "### 2. Contact: \tAn individual associated with an Account who has been qualified.\n",
    "### 3. Account:\tA business, organization, or individual customer that is being tracked.\n",
    "### 4. Opportunity:\tA potential sale (deal) associated with an Account."
   ]
  },
  {
   "cell_type": "code",
   "execution_count": null,
   "id": "2426e905-6e2e-4583-b698-bd53888ddd7f",
   "metadata": {},
   "outputs": [],
   "source": []
  },
  {
   "cell_type": "markdown",
   "id": "fa98e0a7-c379-4722-ad4c-7c6009a3b8d3",
   "metadata": {},
   "source": [
    "## a. Key Salesforce Terms & Flow"
   ]
  },
  {
   "cell_type": "markdown",
   "id": "f1b16834-a894-4369-a522-2f0691ca1da5",
   "metadata": {},
   "source": [
    "### 1. Leads Stage (Before Qualification)\n",
    "#### Lead Status → Tracks the progress of a lead (e.g., New, Working, Nurturing, Converted).\n",
    "#### Lead Conversion → Process where a Lead becomes a Contact, Account, and (optionally) an Opportunity.\n",
    "#### Lead Assignment Rules → Automates lead distribution to sales reps.\n",
    "#### Lead Source → Identifies how the lead was generated (e.g., Web, Email Campaigns, Events).\n",
    "#### Duplicate Leads Handling → Merges duplicate leads for cleaner data."
   ]
  },
  {
   "cell_type": "markdown",
   "id": "ba5b91ee-b6f3-4327-bc0d-ecb1d37457b8",
   "metadata": {},
   "source": [
    "### 2. Contacts & Accounts (After Qualification)\n",
    "#### Account Hierarchy → Defines relationships between parent and child accounts.\n",
    "#### Contact Roles → Defines the role a contact plays in a deal (Decision Maker, Influencer, End User).\n",
    "#### Activity Tracking → Logs interactions with contacts (emails, calls, meetings).\n",
    "#### Campaign Influence → Connects marketing campaigns to sales activities to measure ROI."
   ]
  },
  {
   "cell_type": "markdown",
   "id": "6511fc38-1934-4e06-8d46-0df69822d2c1",
   "metadata": {},
   "source": [
    "### 3. Opportunities (Sales Pipeline & Forecasting)\n",
    "#### Opportunity Stages → Defines the lifecycle of a sales deal (Prospecting → Qualification → Proposal → Negotiation → Closed-Won/Lost).\n",
    "#### Opportunity Probability → A percentage that estimates the likelihood of closing the deal.\n",
    "#### Forecast Categories → Groups opportunities into forecast categories (Pipeline, Best Case, Commit, Closed).\n",
    "#### Products & Price Books → Defines products and their pricing in opportunities.\n",
    "#### Quote Management → Generates official pricing proposals."
   ]
  },
  {
   "cell_type": "code",
   "execution_count": null,
   "id": "b9c7981c-b527-43bd-8b35-b0b0ff811d48",
   "metadata": {},
   "outputs": [],
   "source": []
  },
  {
   "cell_type": "markdown",
   "id": "e539003d-2bba-4025-806c-02885002471c",
   "metadata": {},
   "source": [
    "## b. Salesforce Process Flow for Lead Management"
   ]
  },
  {
   "cell_type": "markdown",
   "id": "dedab60b-6cb1-47e1-a531-b89c05620bea",
   "metadata": {},
   "source": [
    "### 1. Lead Captured → From website, email campaigns, ads, or events.\n",
    "### 2. Lead Qualification → Sales team evaluates if the lead is a potential customer.\n",
    "### 3. Lead Conversion → If qualified, the lead becomes:\n",
    "#### Contact (Person)\n",
    "#### Account (Company)\n",
    "#### Opportunity (Potential Sale)\n",
    "### 4. Opportunity Progression → Moves through stages (Prospecting → Negotiation → Closure).\n",
    "### 5. Deal Closure → Marked as Closed-Won (successful) or Closed-Lost (unsuccessful)."
   ]
  },
  {
   "cell_type": "code",
   "execution_count": null,
   "id": "b168486a-610f-41ab-bba2-d09aca983efe",
   "metadata": {},
   "outputs": [],
   "source": []
  },
  {
   "cell_type": "code",
   "execution_count": null,
   "id": "72bda978-1509-434b-9dd6-c9d8f4871c60",
   "metadata": {},
   "outputs": [],
   "source": []
  },
  {
   "cell_type": "code",
   "execution_count": null,
   "id": "999c7685-a54a-4c85-b374-ddf1d1b7926c",
   "metadata": {},
   "outputs": [],
   "source": []
  },
  {
   "cell_type": "code",
   "execution_count": null,
   "id": "3d50a792-b9cd-41ee-b980-76d33f7f7137",
   "metadata": {},
   "outputs": [],
   "source": []
  },
  {
   "cell_type": "code",
   "execution_count": null,
   "id": "ea3da976-9d8f-4c1d-ba33-0fb181a3e943",
   "metadata": {},
   "outputs": [],
   "source": []
  }
 ],
 "metadata": {
  "kernelspec": {
   "display_name": "Python 3 (ipykernel)",
   "language": "python",
   "name": "python3"
  },
  "language_info": {
   "codemirror_mode": {
    "name": "ipython",
    "version": 3
   },
   "file_extension": ".py",
   "mimetype": "text/x-python",
   "name": "python",
   "nbconvert_exporter": "python",
   "pygments_lexer": "ipython3",
   "version": "3.11.11"
  }
 },
 "nbformat": 4,
 "nbformat_minor": 5
}

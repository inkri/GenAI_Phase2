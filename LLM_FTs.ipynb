{
 "cells": [
  {
   "cell_type": "code",
   "execution_count": 2,
   "id": "86522253-d1c1-45ff-a0cd-522c6ddcb37f",
   "metadata": {},
   "outputs": [],
   "source": [
    "#!pip install --upgrade transformers\n",
    "#!pip install --upgrade datasets"
   ]
  },
  {
   "cell_type": "markdown",
   "id": "6f709452-5335-45ea-a025-8c1405dc7978",
   "metadata": {},
   "source": [
    "## 1. Unsupervised/DA FT"
   ]
  },
  {
   "cell_type": "markdown",
   "id": "3381f659-a022-4466-ba38-1aa0247cdabd",
   "metadata": {},
   "source": [
    "### Training"
   ]
  },
  {
   "cell_type": "code",
   "execution_count": 8,
   "id": "27a889d1-a54f-4569-928f-16f4cdf8a6d8",
   "metadata": {},
   "outputs": [],
   "source": [
    "from transformers import AutoModelForMaskedLM, DataCollatorForLanguageModeling\n",
    "from transformers import AutoTokenizer,Trainer, TrainingArguments"
   ]
  },
  {
   "cell_type": "code",
   "execution_count": 12,
   "id": "4bcd8f86-cf6f-4bf3-bd1b-626ba5bb71b8",
   "metadata": {},
   "outputs": [
    {
     "data": {
      "text/plain": [
       "Dataset({\n",
       "    features: ['text'],\n",
       "    num_rows: 10\n",
       "})"
      ]
     },
     "execution_count": 12,
     "metadata": {},
     "output_type": "execute_result"
    }
   ],
   "source": [
    "corpus = [\"Artificial intelligence is transforming industries\", \n",
    "          \"Cloud computing offers scalable storage solutions\", \n",
    "          \"5G enables faster mobile connectivity\", \n",
    "          \"Blockchain ensures secure digital transactions\", \n",
    "          \"Quantum computing is the future\", \n",
    "          \"IoT connects smart devices globally\", \n",
    "          \"Cybersecurity protects sensitive data online\", \n",
    "          \"Virtual reality creates immersive experiences\", \n",
    "          \"Machine learning automates decision-making\", \n",
    "          \"Data science drives business insights\"]\n",
    "\n",
    "from datasets import Dataset\n",
    "text_dataset = Dataset.from_dict({\"text\": corpus})\n",
    "text_dataset"
   ]
  },
  {
   "cell_type": "code",
   "execution_count": 14,
   "id": "b0546aa6-52d0-4997-a3c0-86faee6d12b1",
   "metadata": {},
   "outputs": [
    {
     "name": "stderr",
     "output_type": "stream",
     "text": [
      "Xet Storage is enabled for this repo, but the 'hf_xet' package is not installed. Falling back to regular HTTP download. For better performance, install the package with: `pip install huggingface_hub[hf_xet]` or `pip install hf_xet`\n"
     ]
    },
    {
     "data": {
      "application/vnd.jupyter.widget-view+json": {
       "model_id": "5271cf665c524de7bfe172a54ea495bc",
       "version_major": 2,
       "version_minor": 0
      },
      "text/plain": [
       "model.safetensors:   0%|          | 0.00/268M [00:00<?, ?B/s]"
      ]
     },
     "metadata": {},
     "output_type": "display_data"
    }
   ],
   "source": [
    "model_name = \"distilbert-base-uncased\"\n",
    "tokenizer = AutoTokenizer.from_pretrained(model_name)\n",
    "model = AutoModelForMaskedLM.from_pretrained(model_name)"
   ]
  },
  {
   "cell_type": "code",
   "execution_count": 20,
   "id": "5daee7e2-f5b1-4949-a705-40fd18b218c2",
   "metadata": {},
   "outputs": [],
   "source": [
    "def tokenize_corpus(sample):\n",
    "    return tokenizer(sample[\"text\"], truncation=True, padding=\"max_length\", max_length=64)"
   ]
  },
  {
   "cell_type": "code",
   "execution_count": 21,
   "id": "080d92e4-24c5-45b8-bb70-eaaee26e615b",
   "metadata": {},
   "outputs": [
    {
     "data": {
      "application/vnd.jupyter.widget-view+json": {
       "model_id": "7e4eb1cc4cbc4ca7af5c13008abdb34c",
       "version_major": 2,
       "version_minor": 0
      },
      "text/plain": [
       "Map:   0%|          | 0/10 [00:00<?, ? examples/s]"
      ]
     },
     "metadata": {},
     "output_type": "display_data"
    },
    {
     "data": {
      "text/plain": [
       "Dataset({\n",
       "    features: ['text', 'input_ids', 'attention_mask'],\n",
       "    num_rows: 10\n",
       "})"
      ]
     },
     "execution_count": 21,
     "metadata": {},
     "output_type": "execute_result"
    }
   ],
   "source": [
    "tokenizer_corpus = text_dataset.map(tokenize_corpus)\n",
    "tokenizer_corpus"
   ]
  },
  {
   "cell_type": "code",
   "execution_count": 25,
   "id": "5ef104ed-61cf-4193-8515-67cf305baa4c",
   "metadata": {},
   "outputs": [],
   "source": [
    "args = TrainingArguments(output_dir=\"C:/Users/Abhishek Jaiswal/GenAI/LLM_FT/results\",\n",
    "                        per_device_eval_batch_size=8,\n",
    "                        num_train_epochs=3,\n",
    "                        logging_strategy=\"no\",\n",
    "                        save_strategy=\"no\",\n",
    "                        report_to=\"none\"\n",
    "                        )"
   ]
  },
  {
   "cell_type": "code",
   "execution_count": 26,
   "id": "4bd67311-2f02-493d-b3d4-b4dca24ba19e",
   "metadata": {},
   "outputs": [],
   "source": [
    "trainer = Trainer(model=model,\n",
    "                 args=args,\n",
    "                 train_dataset=tokenizer_corpus,\n",
    "                 data_collator=DataCollatorForLanguageModeling(tokenizer=tokenizer,mlm=True))"
   ]
  },
  {
   "cell_type": "code",
   "execution_count": 27,
   "id": "223e43f5-dcc5-49e9-9817-d173e1aec593",
   "metadata": {},
   "outputs": [
    {
     "data": {
      "text/html": [
       "\n",
       "    <div>\n",
       "      \n",
       "      <progress value='6' max='6' style='width:300px; height:20px; vertical-align: middle;'></progress>\n",
       "      [6/6 00:07, Epoch 3/3]\n",
       "    </div>\n",
       "    <table border=\"1\" class=\"dataframe\">\n",
       "  <thead>\n",
       " <tr style=\"text-align: left;\">\n",
       "      <th>Step</th>\n",
       "      <th>Training Loss</th>\n",
       "    </tr>\n",
       "  </thead>\n",
       "  <tbody>\n",
       "  </tbody>\n",
       "</table><p>"
      ],
      "text/plain": [
       "<IPython.core.display.HTML object>"
      ]
     },
     "metadata": {},
     "output_type": "display_data"
    },
    {
     "data": {
      "text/plain": [
       "TrainOutput(global_step=6, training_loss=3.4830859502156577, metrics={'train_runtime': 10.9336, 'train_samples_per_second': 2.744, 'train_steps_per_second': 0.549, 'total_flos': 497104335360.0, 'train_loss': 3.4830859502156577, 'epoch': 3.0})"
      ]
     },
     "execution_count": 27,
     "metadata": {},
     "output_type": "execute_result"
    }
   ],
   "source": [
    "trainer.train()"
   ]
  },
  {
   "cell_type": "code",
   "execution_count": 28,
   "id": "389e8722-5b33-4f37-b3d4-a3df68cf54ba",
   "metadata": {},
   "outputs": [],
   "source": [
    "#functions\n",
    "#.train()\n",
    "#.evaluate()\n",
    "#.predict()\n",
    "#.save_model()"
   ]
  },
  {
   "cell_type": "code",
   "execution_count": 29,
   "id": "62719a22-e8bc-492b-919f-cb993b5afaff",
   "metadata": {},
   "outputs": [
    {
     "data": {
      "text/plain": [
       "('C:/Users/Abhishek Jaiswal/GenAI/LLM_FT/Models\\\\tokenizer_config.json',\n",
       " 'C:/Users/Abhishek Jaiswal/GenAI/LLM_FT/Models\\\\special_tokens_map.json',\n",
       " 'C:/Users/Abhishek Jaiswal/GenAI/LLM_FT/Models\\\\vocab.txt',\n",
       " 'C:/Users/Abhishek Jaiswal/GenAI/LLM_FT/Models\\\\added_tokens.json',\n",
       " 'C:/Users/Abhishek Jaiswal/GenAI/LLM_FT/Models\\\\tokenizer.json')"
      ]
     },
     "execution_count": 29,
     "metadata": {},
     "output_type": "execute_result"
    }
   ],
   "source": [
    "#Save the model and read from local\n",
    "save_path=\"C:/Users/Abhishek Jaiswal/GenAI/LLM_FT/Models\"\n",
    "model.save_pretrained(save_path)\n",
    "tokenizer.save_pretrained(save_path)"
   ]
  },
  {
   "cell_type": "markdown",
   "id": "1f342812-7dd7-4cf8-8cad-8c863bed11c5",
   "metadata": {},
   "source": [
    "### From Local"
   ]
  },
  {
   "cell_type": "code",
   "execution_count": 3,
   "id": "c6ab7ce2-3637-45dd-93b8-269cc505638d",
   "metadata": {},
   "outputs": [],
   "source": [
    "from transformers import AutoModelForMaskedLM, AutoTokenizer\n",
    "load_path=\"C:/Users/Abhishek Jaiswal/GenAI/LLM_FT/Models\"\n",
    "model= AutoModelForMaskedLM.from_pretrained(load_path)\n",
    "tokenizer= AutoTokenizer.from_pretrained(load_path)"
   ]
  },
  {
   "cell_type": "code",
   "execution_count": 9,
   "id": "1e867605-5dbb-4a62-b69f-c889c7d92562",
   "metadata": {},
   "outputs": [
    {
     "data": {
      "text/plain": [
       "{'input_ids': tensor([[  101,  7484,  4507,  9005, 10047, 16862,  3512,   103,  1012,   102]]), 'attention_mask': tensor([[1, 1, 1, 1, 1, 1, 1, 1, 1, 1]])}"
      ]
     },
     "execution_count": 9,
     "metadata": {},
     "output_type": "execute_result"
    }
   ],
   "source": [
    "import torch\n",
    "text = \"Virtual reality creates immersive [MASK].\"\n",
    "inputs = tokenizer(text,return_tensors=\"pt\")\n",
    "inputs"
   ]
  },
  {
   "cell_type": "code",
   "execution_count": 10,
   "id": "f06c8731-4a4d-4e10-92f9-6d88d5190681",
   "metadata": {},
   "outputs": [],
   "source": [
    "if tokenizer.mask_token_id not in inputs[\"input_ids\"]:\n",
    "    raise ValueError(\"No [Mask]\")"
   ]
  },
  {
   "cell_type": "code",
   "execution_count": 19,
   "id": "cd086349-0868-47f5-a229-c43667e70b98",
   "metadata": {},
   "outputs": [
    {
     "name": "stdout",
     "output_type": "stream",
     "text": [
      "environments\n",
      "spaces\n",
      "experiences\n",
      "imagery\n",
      "images\n"
     ]
    }
   ],
   "source": [
    "with torch.no_grad():\n",
    "    output = model(**inputs)\n",
    "    logits = output.logits\n",
    "\n",
    "mask_token_index = torch.where(inputs[\"input_ids\"]==tokenizer.mask_token_id)[1]\n",
    "top_k =5\n",
    "mask_logits = logits[0, mask_token_index, :]\n",
    "top_tokens = torch.topk(mask_logits,top_k,dim=1).indices[0].tolist()\n",
    "\n",
    "for token_id in top_tokens:\n",
    "    print(tokenizer.decode([token_id]))"
   ]
  },
  {
   "cell_type": "code",
   "execution_count": null,
   "id": "cfa50537-44f3-46f6-a15f-9494fb8f8f67",
   "metadata": {},
   "outputs": [],
   "source": []
  },
  {
   "cell_type": "markdown",
   "id": "2dcbc94b-8c4d-48a2-b6fb-e56a7f057d6f",
   "metadata": {},
   "source": [
    "## 2. Supervised FT"
   ]
  },
  {
   "cell_type": "markdown",
   "id": "49373ffd-d463-41a8-b660-d55aafa746e9",
   "metadata": {},
   "source": [
    "### Training"
   ]
  },
  {
   "cell_type": "code",
   "execution_count": 20,
   "id": "bfae6eb4-97b2-4fc8-bd18-2450810968fe",
   "metadata": {},
   "outputs": [
    {
     "name": "stdout",
     "output_type": "stream",
     "text": [
      "WARNING:tensorflow:From C:\\Users\\Abhishek Jaiswal\\.conda\\envs\\myenv\\Lib\\site-packages\\tf_keras\\src\\losses.py:2976: The name tf.losses.sparse_softmax_cross_entropy is deprecated. Please use tf.compat.v1.losses.sparse_softmax_cross_entropy instead.\n",
      "\n"
     ]
    }
   ],
   "source": [
    "import torch\n",
    "from datasets import load_dataset\n",
    "from transformers import AutoTokenizer, AutoModelForSequenceClassification, Trainer, TrainingArguments\n",
    "from sklearn.metrics import accuracy_score, precision_recall_fscore_support"
   ]
  },
  {
   "cell_type": "code",
   "execution_count": 28,
   "id": "7009dae9-f0b7-4025-9bc9-e08814a627fe",
   "metadata": {},
   "outputs": [],
   "source": [
    "# 1. Load IMDB dataset\n",
    "dataset = load_dataset(\"imdb\")\n",
    "\n",
    "train_dataset = dataset[\"train\"].shuffle(seed=42).select(range(200))\n",
    "test_dataset = dataset[\"test\"].shuffle(seed=42).select(range(50))"
   ]
  },
  {
   "cell_type": "code",
   "execution_count": 29,
   "id": "9a57d18d-75ae-4c77-8cb7-79bd16ffc210",
   "metadata": {},
   "outputs": [
    {
     "data": {
      "text/html": [
       "<div>\n",
       "<style scoped>\n",
       "    .dataframe tbody tr th:only-of-type {\n",
       "        vertical-align: middle;\n",
       "    }\n",
       "\n",
       "    .dataframe tbody tr th {\n",
       "        vertical-align: top;\n",
       "    }\n",
       "\n",
       "    .dataframe thead th {\n",
       "        text-align: right;\n",
       "    }\n",
       "</style>\n",
       "<table border=\"1\" class=\"dataframe\">\n",
       "  <thead>\n",
       "    <tr style=\"text-align: right;\">\n",
       "      <th></th>\n",
       "      <th>text</th>\n",
       "      <th>label</th>\n",
       "    </tr>\n",
       "  </thead>\n",
       "  <tbody>\n",
       "    <tr>\n",
       "      <th>0</th>\n",
       "      <td>&lt;br /&gt;&lt;br /&gt;When I unsuspectedly rented A Thou...</td>\n",
       "      <td>1</td>\n",
       "    </tr>\n",
       "    <tr>\n",
       "      <th>1</th>\n",
       "      <td>This is the latest entry in the long series of...</td>\n",
       "      <td>1</td>\n",
       "    </tr>\n",
       "  </tbody>\n",
       "</table>\n",
       "</div>"
      ],
      "text/plain": [
       "                                                text  label\n",
       "0  <br /><br />When I unsuspectedly rented A Thou...      1\n",
       "1  This is the latest entry in the long series of...      1"
      ]
     },
     "execution_count": 29,
     "metadata": {},
     "output_type": "execute_result"
    }
   ],
   "source": [
    "df = test_dataset.to_pandas()\n",
    "df.head(2)"
   ]
  },
  {
   "cell_type": "code",
   "execution_count": 30,
   "id": "51ff5990-bb2d-4446-af0d-79401232dd02",
   "metadata": {},
   "outputs": [
    {
     "name": "stderr",
     "output_type": "stream",
     "text": [
      "Some weights of DistilBertForSequenceClassification were not initialized from the model checkpoint at distilbert-base-uncased and are newly initialized: ['classifier.bias', 'classifier.weight', 'pre_classifier.bias', 'pre_classifier.weight']\n",
      "You should probably TRAIN this model on a down-stream task to be able to use it for predictions and inference.\n"
     ]
    }
   ],
   "source": [
    "# 2. Load tokenizer\n",
    "model_name = \"distilbert-base-uncased\"\n",
    "tokenizer = AutoTokenizer.from_pretrained(model_name)\n",
    "\n",
    "# 3. Load model for classification (num_labels=2 for binary)\n",
    "model = AutoModelForSequenceClassification.from_pretrained(model_name, num_labels=2)"
   ]
  },
  {
   "cell_type": "code",
   "execution_count": 31,
   "id": "9b8f4e8e-4330-4ea7-a862-9c37b71b63cb",
   "metadata": {},
   "outputs": [
    {
     "data": {
      "application/vnd.jupyter.widget-view+json": {
       "model_id": "bcdf6f9b64354b19870b581a1fc53847",
       "version_major": 2,
       "version_minor": 0
      },
      "text/plain": [
       "Map:   0%|          | 0/50 [00:00<?, ? examples/s]"
      ]
     },
     "metadata": {},
     "output_type": "display_data"
    }
   ],
   "source": [
    "# 4. Tokenize dataset\n",
    "def tokenize_function(example):\n",
    "    return tokenizer(example[\"text\"], truncation=True, padding=\"max_length\", max_length=256)\n",
    "\n",
    "tokenized_train = train_dataset.map(tokenize_function, batched=True)\n",
    "tokenized_test = test_dataset.map(tokenize_function, batched=True)"
   ]
  },
  {
   "cell_type": "code",
   "execution_count": 32,
   "id": "b75acf22-b4f6-4325-b174-ebe63ac98893",
   "metadata": {},
   "outputs": [],
   "source": [
    "def compute_metrics(pred):\n",
    "    labels = pred.label_ids\n",
    "    preds = pred.predictions.argmax(-1)\n",
    "    precision, recall, f1, _ = precision_recall_fscore_support(labels, preds, average='binary')\n",
    "    acc = accuracy_score(labels, preds)\n",
    "    return {\"accuracy\": acc, \"f1\": f1, \"precision\": precision, \"recall\": recall}"
   ]
  },
  {
   "cell_type": "code",
   "execution_count": 35,
   "id": "a9a2af02-94dd-4da6-869f-93454812c3c4",
   "metadata": {},
   "outputs": [
    {
     "name": "stderr",
     "output_type": "stream",
     "text": [
      "C:\\Users\\Abhishek Jaiswal\\AppData\\Local\\Temp\\ipykernel_2148\\2293223536.py:12: FutureWarning: `tokenizer` is deprecated and will be removed in version 5.0.0 for `Trainer.__init__`. Use `processing_class` instead.\n",
      "  trainer = Trainer(\n"
     ]
    },
    {
     "data": {
      "text/html": [
       "\n",
       "    <div>\n",
       "      \n",
       "      <progress value='75' max='75' style='width:300px; height:20px; vertical-align: middle;'></progress>\n",
       "      [75/75 07:24, Epoch 3/3]\n",
       "    </div>\n",
       "    <table border=\"1\" class=\"dataframe\">\n",
       "  <thead>\n",
       " <tr style=\"text-align: left;\">\n",
       "      <th>Step</th>\n",
       "      <th>Training Loss</th>\n",
       "    </tr>\n",
       "  </thead>\n",
       "  <tbody>\n",
       "  </tbody>\n",
       "</table><p>"
      ],
      "text/plain": [
       "<IPython.core.display.HTML object>"
      ]
     },
     "metadata": {},
     "output_type": "display_data"
    },
    {
     "data": {
      "text/plain": [
       "TrainOutput(global_step=75, training_loss=0.3892241668701172, metrics={'train_runtime': 449.7589, 'train_samples_per_second': 1.334, 'train_steps_per_second': 0.167, 'total_flos': 39740219596800.0, 'train_loss': 0.3892241668701172, 'epoch': 3.0})"
      ]
     },
     "execution_count": 35,
     "metadata": {},
     "output_type": "execute_result"
    }
   ],
   "source": [
    "# 5. Create Trainer\n",
    "args = TrainingArguments(output_dir=\"C:/Users/Abhishek Jaiswal/GenAI/LLM_FT/results\",\n",
    "                        per_device_eval_batch_size=8,\n",
    "                        num_train_epochs=3,\n",
    "                        logging_strategy=\"no\",\n",
    "                        save_strategy=\"no\",\n",
    "                        report_to=\"none\",\n",
    "                        metric_for_best_model=\"accuracy\",\n",
    "                        )\n",
    "\n",
    "\n",
    "\n",
    "trainer = Trainer(\n",
    "    model=model,\n",
    "    args=args,\n",
    "    train_dataset=tokenized_train,\n",
    "    eval_dataset=tokenized_test,\n",
    "    tokenizer=tokenizer,\n",
    "    compute_metrics=compute_metrics,\n",
    ")\n",
    "\n",
    "# 8. Train the model\n",
    "trainer.train()"
   ]
  },
  {
   "cell_type": "code",
   "execution_count": 36,
   "id": "6046bd54-3c76-4dc4-aade-7647969da0e7",
   "metadata": {},
   "outputs": [
    {
     "data": {
      "text/html": [],
      "text/plain": [
       "<IPython.core.display.HTML object>"
      ]
     },
     "metadata": {},
     "output_type": "display_data"
    },
    {
     "name": "stdout",
     "output_type": "stream",
     "text": [
      "Test Results: {'eval_loss': 0.45462727546691895, 'eval_accuracy': 0.78, 'eval_f1': 0.7843137254901961, 'eval_precision': 0.6896551724137931, 'eval_recall': 0.9090909090909091, 'eval_runtime': 9.7303, 'eval_samples_per_second': 5.139, 'eval_steps_per_second': 0.719, 'epoch': 3.0}\n"
     ]
    }
   ],
   "source": [
    "# 6. Evaluate the model\n",
    "results = trainer.evaluate()\n",
    "print(\"Test Results:\", results)"
   ]
  },
  {
   "cell_type": "code",
   "execution_count": 37,
   "id": "e0fe6ffa-f324-4207-ab86-105f8def7009",
   "metadata": {},
   "outputs": [
    {
     "data": {
      "text/plain": [
       "('C:/Users/Abhishek Jaiswal/GenAI/LLM_FT/Models2\\\\tokenizer_config.json',\n",
       " 'C:/Users/Abhishek Jaiswal/GenAI/LLM_FT/Models2\\\\special_tokens_map.json',\n",
       " 'C:/Users/Abhishek Jaiswal/GenAI/LLM_FT/Models2\\\\vocab.txt',\n",
       " 'C:/Users/Abhishek Jaiswal/GenAI/LLM_FT/Models2\\\\added_tokens.json',\n",
       " 'C:/Users/Abhishek Jaiswal/GenAI/LLM_FT/Models2\\\\tokenizer.json')"
      ]
     },
     "execution_count": 37,
     "metadata": {},
     "output_type": "execute_result"
    }
   ],
   "source": [
    "#Save the model and read from local\n",
    "save_path=\"C:/Users/Abhishek Jaiswal/GenAI/LLM_FT/Models2\"\n",
    "model.save_pretrained(save_path)\n",
    "tokenizer.save_pretrained(save_path)"
   ]
  },
  {
   "cell_type": "markdown",
   "id": "8fdd2d39-75c6-4667-82f2-e7a78d538bce",
   "metadata": {},
   "source": [
    "### From Local"
   ]
  },
  {
   "cell_type": "code",
   "execution_count": 38,
   "id": "afc4a4c0-9b61-4186-86b5-667696a0e8aa",
   "metadata": {},
   "outputs": [
    {
     "name": "stdout",
     "output_type": "stream",
     "text": [
      "Text: The movie was absolutely wonderful, I loved every moment of it!\n",
      "Predicted Sentiment: Positive\n"
     ]
    }
   ],
   "source": [
    "import torch\n",
    "from transformers import AutoTokenizer, AutoModelForSequenceClassification\n",
    "\n",
    "# Load the fine-tuned model and tokenizer\n",
    "model_path = \"C:/Users/Abhishek Jaiswal/GenAI/LLM_FT/Models2\"\n",
    "model = AutoModelForSequenceClassification.from_pretrained(model_path)\n",
    "tokenizer = AutoTokenizer.from_pretrained(model_path)\n",
    "\n",
    "# Put model in evaluation mode\n",
    "model.eval()\n",
    "\n",
    "# Example input\n",
    "text = \"The movie was absolutely wonderful, I loved every moment of it!\"\n",
    "\n",
    "# Tokenize the input\n",
    "inputs = tokenizer(text, return_tensors=\"pt\", truncation=True, padding=\"max_length\", max_length=256)\n",
    "\n",
    "# Predict\n",
    "with torch.no_grad():\n",
    "    outputs = model(**inputs)\n",
    "    logits = outputs.logits\n",
    "    predicted_class_id = logits.argmax().item()\n",
    "\n",
    "# Map prediction to label\n",
    "label_map = {0: \"Negative\", 1: \"Positive\"}\n",
    "\n",
    "print(f\"Text: {text}\")\n",
    "print(f\"Predicted Sentiment: {label_map[predicted_class_id]}\")"
   ]
  },
  {
   "cell_type": "code",
   "execution_count": 50,
   "id": "11d3b947-f6cd-4abc-938c-732f059c439d",
   "metadata": {},
   "outputs": [
    {
     "data": {
      "application/vnd.jupyter.widget-view+json": {
       "model_id": "1239940f66cd48269012aa29cf900072",
       "version_major": 2,
       "version_minor": 0
      },
      "text/plain": [
       "Map:   0%|          | 0/20 [00:00<?, ? examples/s]"
      ]
     },
     "metadata": {},
     "output_type": "display_data"
    },
    {
     "data": {
      "text/html": [],
      "text/plain": [
       "<IPython.core.display.HTML object>"
      ]
     },
     "metadata": {},
     "output_type": "display_data"
    },
    {
     "data": {
      "text/plain": [
       "array([1, 1, 1, 1, 1, 1, 1, 1, 1, 1, 1, 1, 1, 1, 1, 1, 1, 1, 1, 1])"
      ]
     },
     "execution_count": 50,
     "metadata": {},
     "output_type": "execute_result"
    }
   ],
   "source": [
    "from datasets import Dataset\n",
    "predict_dataset = Dataset.from_dict({\"text\":\"moviee was fine fine\"})\n",
    "predict_dataset = predict_dataset.map(lambda x: tokenizer(x[\"text\"], truncation=True, padding=True),batched=True)\n",
    "predict_dataset = predict_dataset.remove_columns([\"text\"])\n",
    "predictions=trainer.predict(predict_dataset)\n",
    "predictions.predictions.argmax(axis=-1)"
   ]
  },
  {
   "cell_type": "code",
   "execution_count": null,
   "id": "ac9575a8-2cac-4a37-8780-593db927ab48",
   "metadata": {},
   "outputs": [],
   "source": []
  },
  {
   "cell_type": "markdown",
   "id": "83b68754-bbc8-40d0-8ae5-042119b6a429",
   "metadata": {},
   "source": [
    "## 3. Instruction Based FT"
   ]
  },
  {
   "cell_type": "code",
   "execution_count": 9,
   "id": "7f43c28f-dace-4996-99af-c2180e78ba27",
   "metadata": {},
   "outputs": [],
   "source": [
    "from transformers import AutoTokenizer, AutoModelForSeq2SeqLM\n",
    "from transformers import Trainer, TrainingArguments"
   ]
  },
  {
   "cell_type": "code",
   "execution_count": 10,
   "id": "e4c46726-0d47-4508-9270-c892fe24f0fa",
   "metadata": {},
   "outputs": [
    {
     "data": {
      "text/plain": [
       "Dataset({\n",
       "    features: ['instruction', 'input', 'output'],\n",
       "    num_rows: 20\n",
       "})"
      ]
     },
     "execution_count": 10,
     "metadata": {},
     "output_type": "execute_result"
    }
   ],
   "source": [
    "#Prepare Dataset\n",
    "from datasets import Dataset\n",
    "\n",
    "data = {\n",
    "    \"instruction\": [\"Translate to French\"] * 20,\n",
    "    \"input\": [\n",
    "        \"Good morning, how are you?\",\n",
    "        \"Thank you for your help.\",\n",
    "        \"I would like a cup of coffee.\",\n",
    "        \"This is my favorite book.\",\n",
    "        \"Can you please repeat that?\",\n",
    "        \"The weather is nice today.\",\n",
    "        \"Where is the nearest train station?\",\n",
    "        \"I love learning new languages.\",\n",
    "        \"Please bring me the menu.\",\n",
    "        \"What time is the meeting?\",\n",
    "        \"I am going to the supermarket.\",\n",
    "        \"My phone battery is low.\",\n",
    "        \"We had a great time yesterday.\",\n",
    "        \"She is an excellent teacher.\",\n",
    "        \"I need to buy a gift.\",\n",
    "        \"Do you speak English?\",\n",
    "        \"How much does this cost?\",\n",
    "        \"I am feeling very tired.\",\n",
    "        \"Let's go to the park.\",\n",
    "        \"The flight is delayed by an hour.\"\n",
    "    ],\n",
    "    \"output\": [\n",
    "        \"Bonjour, comment ça va ?\",\n",
    "        \"Merci pour votre aide.\",\n",
    "        \"Je voudrais une tasse de café.\",\n",
    "        \"C'est mon livre préféré.\",\n",
    "        \"Pouvez-vous répéter, s'il vous plaît ?\",\n",
    "        \"Il fait beau aujourd'hui.\",\n",
    "        \"Où est la gare la plus proche ?\",\n",
    "        \"J'aime apprendre de nouvelles langues.\",\n",
    "        \"Apportez-moi le menu, s'il vous plaît.\",\n",
    "        \"À quelle heure est la réunion ?\",\n",
    "        \"Je vais au supermarché.\",\n",
    "        \"La batterie de mon téléphone est faible.\",\n",
    "        \"Nous avons passé un bon moment hier.\",\n",
    "        \"Elle est une excellente enseignante.\",\n",
    "        \"Je dois acheter un cadeau.\",\n",
    "        \"Parlez-vous anglais ?\",\n",
    "        \"Combien cela coûte-t-il ?\",\n",
    "        \"Je me sens très fatigué.\",\n",
    "        \"Allons au parc.\",\n",
    "        \"Le vol a une heure de retard.\"\n",
    "    ]\n",
    "}\n",
    "\n",
    "\n",
    "train_dataset = Dataset.from_dict(data)\n",
    "train_dataset"
   ]
  },
  {
   "cell_type": "code",
   "execution_count": 11,
   "id": "b2775a8b-2940-4079-9f9c-2655c5d7b2ad",
   "metadata": {},
   "outputs": [
    {
     "data": {
      "application/vnd.jupyter.widget-view+json": {
       "model_id": "34726cd263454576bef5e3e71611274d",
       "version_major": 2,
       "version_minor": 0
      },
      "text/plain": [
       "Map:   0%|          | 0/20 [00:00<?, ? examples/s]"
      ]
     },
     "metadata": {},
     "output_type": "display_data"
    }
   ],
   "source": [
    "#Format Dataset for T5\n",
    "def format_instruction(example):\n",
    "    return {\n",
    "        \"text\": f\"{example['instruction']}: {example['input']}\",\n",
    "        \"labels\": example[\"output\"]\n",
    "    }\n",
    "\n",
    "formatted_dataset = train_dataset.map(format_instruction)"
   ]
  },
  {
   "cell_type": "code",
   "execution_count": 13,
   "id": "e29d8210-79bf-4a0b-acf9-fe63dec5dc20",
   "metadata": {},
   "outputs": [],
   "source": [
    "tokenizer = AutoTokenizer.from_pretrained(\"t5-small\")\n",
    "model = AutoModelForSeq2SeqLM.from_pretrained(\"t5-small\")"
   ]
  },
  {
   "cell_type": "code",
   "execution_count": 14,
   "id": "ac6c27d8-8f77-463c-b320-c77e1f49b62b",
   "metadata": {},
   "outputs": [
    {
     "data": {
      "application/vnd.jupyter.widget-view+json": {
       "model_id": "8ec24e9088e145f5b23cff5526814944",
       "version_major": 2,
       "version_minor": 0
      },
      "text/plain": [
       "Map:   0%|          | 0/20 [00:00<?, ? examples/s]"
      ]
     },
     "metadata": {},
     "output_type": "display_data"
    }
   ],
   "source": [
    "#Tokenize Dataset\n",
    "# Assuming this is your tokenization function\n",
    "def tokenize(example):\n",
    "    model_input = tokenizer(example[\"text\"], truncation=True, padding=\"max_length\", max_length=256)\n",
    "    labels = tokenizer(example[\"labels\"], truncation=True, padding=\"max_length\", max_length=64)\n",
    "    model_input[\"labels\"] = labels[\"input_ids\"]\n",
    "    return model_input\n",
    "\n",
    "# Apply tokenizer\n",
    "tokenized_dataset = formatted_dataset.map(tokenize, remove_columns=formatted_dataset.column_names)\n",
    "\n",
    "# Set tensor format (VERY IMPORTANT)\n",
    "tokenized_dataset.set_format(type=\"torch\", columns=[\"input_ids\", \"attention_mask\", \"labels\"])"
   ]
  },
  {
   "cell_type": "code",
   "execution_count": null,
   "id": "4b537ddb-af5a-4da9-a6f8-54a80678c8c6",
   "metadata": {},
   "outputs": [],
   "source": []
  },
  {
   "cell_type": "code",
   "execution_count": 15,
   "id": "a057e397-1ef9-4957-a8bc-089bd2848373",
   "metadata": {},
   "outputs": [
    {
     "name": "stderr",
     "output_type": "stream",
     "text": [
      "C:\\Users\\Abhishek Jaiswal\\AppData\\Local\\Temp\\ipykernel_11192\\604609242.py:22: FutureWarning: `tokenizer` is deprecated and will be removed in version 5.0.0 for `Trainer.__init__`. Use `processing_class` instead.\n",
      "  trainer = Trainer(\n"
     ]
    }
   ],
   "source": [
    "#TrainingArguments + Trainer\n",
    "from transformers import Trainer, TrainingArguments\n",
    "\n",
    "training_args = TrainingArguments(\n",
    "    output_dir=\"C:/Users/Abhishek Jaiswal/GenAI/LLM_FT/results\",  # Directory to save model checkpoints\n",
    "    overwrite_output_dir=True,             # Overwrite existing files\n",
    "    per_device_train_batch_size=4,\n",
    "    num_train_epochs=5,\n",
    "    learning_rate=3e-4,\n",
    "    weight_decay=0.01,\n",
    "    \n",
    "    logging_dir=\"C:/Users/Abhishek Jaiswal/GenAI/LLM_FT/logs\",  # Logging dir\n",
    "    logging_steps=10,\n",
    "    \n",
    "    save_steps=50,\n",
    "    save_total_limit=1,\n",
    "    \n",
    "    report_to=\"none\",                      # Disable wandb/tensorboard unless using them\n",
    "    remove_unused_columns=False            # Needed for custom inputs like instruction-format\n",
    ")\n",
    "\n",
    "trainer = Trainer(\n",
    "    model=model,\n",
    "    args=training_args,\n",
    "    train_dataset=tokenized_dataset,\n",
    "    tokenizer=tokenizer,\n",
    ")"
   ]
  },
  {
   "cell_type": "code",
   "execution_count": 16,
   "id": "f7e71238-9cb8-4b12-a130-eba9e3e5d235",
   "metadata": {},
   "outputs": [
    {
     "name": "stderr",
     "output_type": "stream",
     "text": [
      "Passing a tuple of `past_key_values` is deprecated and will be removed in Transformers v4.48.0. You should pass an instance of `EncoderDecoderCache` instead, e.g. `past_key_values=EncoderDecoderCache.from_legacy_cache(past_key_values)`.\n"
     ]
    },
    {
     "data": {
      "text/html": [
       "\n",
       "    <div>\n",
       "      \n",
       "      <progress value='25' max='25' style='width:300px; height:20px; vertical-align: middle;'></progress>\n",
       "      [25/25 01:05, Epoch 5/5]\n",
       "    </div>\n",
       "    <table border=\"1\" class=\"dataframe\">\n",
       "  <thead>\n",
       " <tr style=\"text-align: left;\">\n",
       "      <th>Step</th>\n",
       "      <th>Training Loss</th>\n",
       "    </tr>\n",
       "  </thead>\n",
       "  <tbody>\n",
       "    <tr>\n",
       "      <td>10</td>\n",
       "      <td>4.546000</td>\n",
       "    </tr>\n",
       "    <tr>\n",
       "      <td>20</td>\n",
       "      <td>0.977800</td>\n",
       "    </tr>\n",
       "  </tbody>\n",
       "</table><p>"
      ],
      "text/plain": [
       "<IPython.core.display.HTML object>"
      ]
     },
     "metadata": {},
     "output_type": "display_data"
    },
    {
     "data": {
      "text/plain": [
       "TrainOutput(global_step=25, training_loss=2.3481567192077635, metrics={'train_runtime': 68.5573, 'train_samples_per_second': 1.459, 'train_steps_per_second': 0.365, 'total_flos': 6767090073600.0, 'train_loss': 2.3481567192077635, 'epoch': 5.0})"
      ]
     },
     "execution_count": 16,
     "metadata": {},
     "output_type": "execute_result"
    }
   ],
   "source": [
    "#Train\n",
    "trainer.train()"
   ]
  },
  {
   "cell_type": "code",
   "execution_count": 17,
   "id": "99432eef-ad0b-482f-99b7-97b650ff868b",
   "metadata": {},
   "outputs": [
    {
     "name": "stdout",
     "output_type": "stream",
     "text": [
      "Input Text: The weather is very pleasant today.\n",
      "Generated French Translation: \n"
     ]
    }
   ],
   "source": [
    "import torch\n",
    "\n",
    "# Make prediction\n",
    "instruction = \"Translate to French\"\n",
    "input_text = \"The weather is very pleasant today.\"\n",
    "\n",
    "# Combine instruction and input like during training\n",
    "input_combined = f\"{instruction}: {input_text}\"\n",
    "\n",
    "# Tokenize\n",
    "input_ids = tokenizer(input_combined, return_tensors=\"pt\", truncation=True, padding=True).input_ids\n",
    "\n",
    "# Generate prediction\n",
    "with torch.no_grad():\n",
    "    generated_ids = model.generate(input_ids, max_length=50)\n",
    "    result = tokenizer.decode(generated_ids[0], skip_special_tokens=True)\n",
    "\n",
    "# Output\n",
    "print(\"Input Text:\", input_text)\n",
    "print(\"Generated French Translation:\", result)"
   ]
  },
  {
   "cell_type": "code",
   "execution_count": 18,
   "id": "6ec93e11-f4fd-4141-a201-7bf3c1ae1c65",
   "metadata": {},
   "outputs": [
    {
     "data": {
      "text/plain": [
       "('C:/Users/Abhishek Jaiswal/GenAI/LLM_FT/Models3\\\\tokenizer_config.json',\n",
       " 'C:/Users/Abhishek Jaiswal/GenAI/LLM_FT/Models3\\\\special_tokens_map.json',\n",
       " 'C:/Users/Abhishek Jaiswal/GenAI/LLM_FT/Models3\\\\tokenizer.json')"
      ]
     },
     "execution_count": 18,
     "metadata": {},
     "output_type": "execute_result"
    }
   ],
   "source": [
    "# Save the model and tokenizer locally\n",
    "pathh= \"C:/Users/Abhishek Jaiswal/GenAI/LLM_FT/Models3\"\n",
    "model.save_pretrained(pathh)\n",
    "tokenizer.save_pretrained(pathh)"
   ]
  },
  {
   "cell_type": "markdown",
   "id": "7dfb2e47-7772-4cec-9a9e-0cc664813551",
   "metadata": {},
   "source": [
    "### local"
   ]
  },
  {
   "cell_type": "code",
   "execution_count": 1,
   "id": "5497e8d6-d121-40db-8a31-935a20ba6e2a",
   "metadata": {},
   "outputs": [
    {
     "data": {
      "text/plain": [
       "T5ForConditionalGeneration(\n",
       "  (shared): Embedding(32128, 512)\n",
       "  (encoder): T5Stack(\n",
       "    (embed_tokens): Embedding(32128, 512)\n",
       "    (block): ModuleList(\n",
       "      (0): T5Block(\n",
       "        (layer): ModuleList(\n",
       "          (0): T5LayerSelfAttention(\n",
       "            (SelfAttention): T5Attention(\n",
       "              (q): Linear(in_features=512, out_features=512, bias=False)\n",
       "              (k): Linear(in_features=512, out_features=512, bias=False)\n",
       "              (v): Linear(in_features=512, out_features=512, bias=False)\n",
       "              (o): Linear(in_features=512, out_features=512, bias=False)\n",
       "              (relative_attention_bias): Embedding(32, 8)\n",
       "            )\n",
       "            (layer_norm): T5LayerNorm()\n",
       "            (dropout): Dropout(p=0.1, inplace=False)\n",
       "          )\n",
       "          (1): T5LayerFF(\n",
       "            (DenseReluDense): T5DenseActDense(\n",
       "              (wi): Linear(in_features=512, out_features=2048, bias=False)\n",
       "              (wo): Linear(in_features=2048, out_features=512, bias=False)\n",
       "              (dropout): Dropout(p=0.1, inplace=False)\n",
       "              (act): ReLU()\n",
       "            )\n",
       "            (layer_norm): T5LayerNorm()\n",
       "            (dropout): Dropout(p=0.1, inplace=False)\n",
       "          )\n",
       "        )\n",
       "      )\n",
       "      (1-5): 5 x T5Block(\n",
       "        (layer): ModuleList(\n",
       "          (0): T5LayerSelfAttention(\n",
       "            (SelfAttention): T5Attention(\n",
       "              (q): Linear(in_features=512, out_features=512, bias=False)\n",
       "              (k): Linear(in_features=512, out_features=512, bias=False)\n",
       "              (v): Linear(in_features=512, out_features=512, bias=False)\n",
       "              (o): Linear(in_features=512, out_features=512, bias=False)\n",
       "            )\n",
       "            (layer_norm): T5LayerNorm()\n",
       "            (dropout): Dropout(p=0.1, inplace=False)\n",
       "          )\n",
       "          (1): T5LayerFF(\n",
       "            (DenseReluDense): T5DenseActDense(\n",
       "              (wi): Linear(in_features=512, out_features=2048, bias=False)\n",
       "              (wo): Linear(in_features=2048, out_features=512, bias=False)\n",
       "              (dropout): Dropout(p=0.1, inplace=False)\n",
       "              (act): ReLU()\n",
       "            )\n",
       "            (layer_norm): T5LayerNorm()\n",
       "            (dropout): Dropout(p=0.1, inplace=False)\n",
       "          )\n",
       "        )\n",
       "      )\n",
       "    )\n",
       "    (final_layer_norm): T5LayerNorm()\n",
       "    (dropout): Dropout(p=0.1, inplace=False)\n",
       "  )\n",
       "  (decoder): T5Stack(\n",
       "    (embed_tokens): Embedding(32128, 512)\n",
       "    (block): ModuleList(\n",
       "      (0): T5Block(\n",
       "        (layer): ModuleList(\n",
       "          (0): T5LayerSelfAttention(\n",
       "            (SelfAttention): T5Attention(\n",
       "              (q): Linear(in_features=512, out_features=512, bias=False)\n",
       "              (k): Linear(in_features=512, out_features=512, bias=False)\n",
       "              (v): Linear(in_features=512, out_features=512, bias=False)\n",
       "              (o): Linear(in_features=512, out_features=512, bias=False)\n",
       "              (relative_attention_bias): Embedding(32, 8)\n",
       "            )\n",
       "            (layer_norm): T5LayerNorm()\n",
       "            (dropout): Dropout(p=0.1, inplace=False)\n",
       "          )\n",
       "          (1): T5LayerCrossAttention(\n",
       "            (EncDecAttention): T5Attention(\n",
       "              (q): Linear(in_features=512, out_features=512, bias=False)\n",
       "              (k): Linear(in_features=512, out_features=512, bias=False)\n",
       "              (v): Linear(in_features=512, out_features=512, bias=False)\n",
       "              (o): Linear(in_features=512, out_features=512, bias=False)\n",
       "            )\n",
       "            (layer_norm): T5LayerNorm()\n",
       "            (dropout): Dropout(p=0.1, inplace=False)\n",
       "          )\n",
       "          (2): T5LayerFF(\n",
       "            (DenseReluDense): T5DenseActDense(\n",
       "              (wi): Linear(in_features=512, out_features=2048, bias=False)\n",
       "              (wo): Linear(in_features=2048, out_features=512, bias=False)\n",
       "              (dropout): Dropout(p=0.1, inplace=False)\n",
       "              (act): ReLU()\n",
       "            )\n",
       "            (layer_norm): T5LayerNorm()\n",
       "            (dropout): Dropout(p=0.1, inplace=False)\n",
       "          )\n",
       "        )\n",
       "      )\n",
       "      (1-5): 5 x T5Block(\n",
       "        (layer): ModuleList(\n",
       "          (0): T5LayerSelfAttention(\n",
       "            (SelfAttention): T5Attention(\n",
       "              (q): Linear(in_features=512, out_features=512, bias=False)\n",
       "              (k): Linear(in_features=512, out_features=512, bias=False)\n",
       "              (v): Linear(in_features=512, out_features=512, bias=False)\n",
       "              (o): Linear(in_features=512, out_features=512, bias=False)\n",
       "            )\n",
       "            (layer_norm): T5LayerNorm()\n",
       "            (dropout): Dropout(p=0.1, inplace=False)\n",
       "          )\n",
       "          (1): T5LayerCrossAttention(\n",
       "            (EncDecAttention): T5Attention(\n",
       "              (q): Linear(in_features=512, out_features=512, bias=False)\n",
       "              (k): Linear(in_features=512, out_features=512, bias=False)\n",
       "              (v): Linear(in_features=512, out_features=512, bias=False)\n",
       "              (o): Linear(in_features=512, out_features=512, bias=False)\n",
       "            )\n",
       "            (layer_norm): T5LayerNorm()\n",
       "            (dropout): Dropout(p=0.1, inplace=False)\n",
       "          )\n",
       "          (2): T5LayerFF(\n",
       "            (DenseReluDense): T5DenseActDense(\n",
       "              (wi): Linear(in_features=512, out_features=2048, bias=False)\n",
       "              (wo): Linear(in_features=2048, out_features=512, bias=False)\n",
       "              (dropout): Dropout(p=0.1, inplace=False)\n",
       "              (act): ReLU()\n",
       "            )\n",
       "            (layer_norm): T5LayerNorm()\n",
       "            (dropout): Dropout(p=0.1, inplace=False)\n",
       "          )\n",
       "        )\n",
       "      )\n",
       "    )\n",
       "    (final_layer_norm): T5LayerNorm()\n",
       "    (dropout): Dropout(p=0.1, inplace=False)\n",
       "  )\n",
       "  (lm_head): Linear(in_features=512, out_features=32128, bias=False)\n",
       ")"
      ]
     },
     "execution_count": 1,
     "metadata": {},
     "output_type": "execute_result"
    }
   ],
   "source": [
    "#Load the model and tokenizer later (for inference)\n",
    "from transformers import AutoTokenizer, AutoModelForSeq2SeqLM\n",
    "import torch\n",
    "pathh= \"C:/Users/Abhishek Jaiswal/GenAI/LLM_FT/Models3\"\n",
    "# Load saved model\n",
    "model = AutoModelForSeq2SeqLM.from_pretrained(pathh)\n",
    "tokenizer = AutoTokenizer.from_pretrained(pathh)\n",
    "model.eval()"
   ]
  },
  {
   "cell_type": "code",
   "execution_count": 2,
   "id": "247e86df-3680-41a6-b8f5-0459c8142712",
   "metadata": {},
   "outputs": [
    {
     "name": "stdout",
     "output_type": "stream",
     "text": [
      "Input Text: The weather is very pleasant today.\n",
      "Generated French Translation: La météo est très agréable aujourd'hui, et elle est particulièrement agréable.\n"
     ]
    }
   ],
   "source": [
    "import torch\n",
    "\n",
    "# 🔹 Step 1: Define instruction and input\n",
    "instruction = \"Translate to French\"\n",
    "input_text = \"The weather is very pleasant today.\"\n",
    "\n",
    "# 🔹 Step 2: Combine instruction and input\n",
    "input_combined = f\"{instruction}: {input_text}\"\n",
    "\n",
    "# 🔹 Step 3: Tokenize input\n",
    "inputs = tokenizer(\n",
    "    input_combined,\n",
    "    return_tensors=\"pt\",\n",
    "    truncation=True,\n",
    "    padding=\"max_length\",\n",
    "    max_length=256\n",
    ")\n",
    "\n",
    "# 🔹 Step 4: Generate output from model\n",
    "with torch.no_grad():\n",
    "    generated_ids = model.generate(\n",
    "        inputs[\"input_ids\"],\n",
    "        attention_mask=inputs[\"attention_mask\"],\n",
    "        max_length=50,\n",
    "        num_beams=4,              # Better quality with beam search\n",
    "        early_stopping=True,\n",
    "        no_repeat_ngram_size=2    # Avoid repetition\n",
    "    )\n",
    "\n",
    "# 🔹 Step 5: Decode the generated tokens to readable text\n",
    "prediction = tokenizer.decode(generated_ids[0], skip_special_tokens=True)\n",
    "\n",
    "# 🔹 Step 6: Print result\n",
    "print(\"Input Text:\", input_text)\n",
    "print(\"Generated French Translation:\", prediction)"
   ]
  },
  {
   "cell_type": "code",
   "execution_count": null,
   "id": "9bff2407-1442-42a0-a880-0ab0a92fb1e9",
   "metadata": {},
   "outputs": [],
   "source": []
  },
  {
   "cell_type": "markdown",
   "id": "11d33815-09c4-40cf-9a3f-4a153abc7973",
   "metadata": {},
   "source": [
    "## 4. Reinforcement Learning with Human Feedback (RLHF)"
   ]
  },
  {
   "attachments": {
    "02dadf2e-7f20-4a94-8deb-dd6a4b80fecd.png": {
     "image/png": "[encoded data removed]"
    }
   },
   "cell_type": "markdown",
   "id": "df9e4e4d-572e-463e-851b-1836d44dcb24",
   "metadata": {},
   "source": [
    "![image.png](attachment:02dadf2e-7f20-4a94-8deb-dd6a4b80fecd.png)"
   ]
  },
  {
   "cell_type": "markdown",
   "id": "af434711-2ab5-42c9-a5dc-c840744b6ffc",
   "metadata": {},
   "source": [
    "### 1. Supervised Fine-Tuning (SFT) — Instruction Tuning"
   ]
  },
  {
   "cell_type": "code",
   "execution_count": null,
   "id": "706474cb-9dae-4ba1-8395-eb87608a41c1",
   "metadata": {},
   "outputs": [],
   "source": [
    "from transformers import AutoModelForCausalLM, AutoTokenizer, Trainer, TrainingArguments\n",
    "from datasets import load_dataset\n",
    "\n",
    "model = AutoModelForCausalLM.from_pretrained(\"gpt2\")\n",
    "tokenizer = AutoTokenizer.from_pretrained(\"gpt2\")\n",
    "\n",
    "def tokenize_fn(example):\n",
    "    return tokenizer(example[\"prompt\"] + example[\"response\"], truncation=True, padding=\"max_length\", max_length=512)\n",
    "\n",
    "dataset = load_dataset(\"yizhongw/self_instruct\", split=\"train[:1000]\")\n",
    "dataset = dataset.map(tokenize_fn)\n",
    "dataset.set_format(type=\"torch\", columns=[\"input_ids\", \"attention_mask\"])\n",
    "\n",
    "trainer = Trainer(\n",
    "    model=model,\n",
    "    args=TrainingArguments(\n",
    "        output_dir=\"./sft\",\n",
    "        per_device_train_batch_size=4,\n",
    "        num_train_epochs=3,\n",
    "        logging_dir=\"./logs\"\n",
    "    ),\n",
    "    train_dataset=dataset\n",
    ")\n",
    "\n",
    "trainer.train()"
   ]
  },
  {
   "cell_type": "code",
   "execution_count": null,
   "id": "0a141643-5112-40ca-b1cc-83f425b69d30",
   "metadata": {},
   "outputs": [],
   "source": []
  },
  {
   "cell_type": "markdown",
   "id": "f32d3c86-70c0-461d-9212-438015be5437",
   "metadata": {},
   "source": [
    "### 2. Reward Model (RM) Training — Learn from Comparisons"
   ]
  },
  {
   "cell_type": "code",
   "execution_count": null,
   "id": "72b3877d-51cc-4ba8-a8f3-a077784934ef",
   "metadata": {},
   "outputs": [],
   "source": [
    "from transformers import AutoModelForSequenceClassification\n",
    "from datasets import load_dataset\n",
    "\n",
    "# Assume your dataset has {\"prompt\", \"chosen\", \"rejected\"}\n",
    "dataset = load_dataset(\"lvwerra/stack-exchange-paired\")\n",
    "\n",
    "def preprocess(example):\n",
    "    return {\n",
    "        \"text_chosen\": example[\"prompt\"] + example[\"chosen\"],\n",
    "        \"text_rejected\": example[\"prompt\"] + example[\"rejected\"]\n",
    "    }\n",
    "\n",
    "dataset = dataset.map(preprocess)\n",
    "\n",
    "# Use a reward model (e.g., 1 output head)\n",
    "model = AutoModelForSequenceClassification.from_pretrained(\"gpt2\", num_labels=1)\n",
    "\n",
    "# Use TRL or custom pairwise loss (e.g., cross-entropy between chosen > rejected)\n",
    "# You can use `trl.RewardTrainer` to simplify reward modeling"
   ]
  },
  {
   "cell_type": "code",
   "execution_count": null,
   "id": "c6c6d8ab-ebeb-4a3a-a45a-01b771363c2d",
   "metadata": {},
   "outputs": [],
   "source": []
  },
  {
   "cell_type": "markdown",
   "id": "bb414ac7-09d4-45ea-a6ae-b75a0045d3a1",
   "metadata": {},
   "source": [
    "### 3. Reinforcement Learning Optimization — PPO (Proximal Policy Optimization)"
   ]
  },
  {
   "cell_type": "code",
   "execution_count": null,
   "id": "01b64871-ed24-4ba1-b5e7-224e800f3397",
   "metadata": {},
   "outputs": [],
   "source": [
    "from transformers import AutoTokenizer, AutoModelForCausalLM\n",
    "from trl import PPOTrainer, PPOConfig, AutoModelForCausalLMWithValueHead\n",
    "from datasets import load_dataset\n",
    "\n",
    "tokenizer = AutoTokenizer.from_pretrained(\"gpt2\")\n",
    "model = AutoModelForCausalLMWithValueHead.from_pretrained(\"gpt2\")\n",
    "\n",
    "# PPO Config\n",
    "ppo_config = PPOConfig(batch_size=4, log_with=None)\n",
    "\n",
    "# Load data\n",
    "dataset = load_dataset(\"Dahoas/synthetic-instruct-gptj-pairwise\", split=\"train[:1000]\")\n",
    "\n",
    "def format_prompt(example):\n",
    "    return tokenizer(example[\"prompt\"], return_tensors=\"pt\").input_ids\n",
    "\n",
    "# Dummy reward function (replace with real reward model)\n",
    "def reward_fn(prompts, responses):\n",
    "    return torch.tensor([1.0 for _ in responses])  # Dummy constant reward\n",
    "\n",
    "ppo_trainer = PPOTrainer(\n",
    "    config=ppo_config,\n",
    "    model=model,\n",
    "    tokenizer=tokenizer,\n",
    "    dataset=dataset,\n",
    "    reward_fn=reward_fn\n",
    ")\n",
    "\n",
    "# Training loop\n",
    "ppo_trainer.train()\n"
   ]
  },
  {
   "attachments": {
    "27a27111-7754-4e24-a577-2178ecdbd2cb.png": {
     "image/png": "[encoded data removed]"
    }
   },
   "cell_type": "markdown",
   "id": "7319cd5d-7a92-49b3-b79c-8c2457c17aed",
   "metadata": {},
   "source": [
    "![image.png](attachment:27a27111-7754-4e24-a577-2178ecdbd2cb.png)"
   ]
  },
  {
   "cell_type": "code",
   "execution_count": null,
   "id": "ec3f35b9-ee74-4f69-92af-93a7b5e3b911",
   "metadata": {},
   "outputs": [],
   "source": []
  },
  {
   "cell_type": "code",
   "execution_count": null,
   "id": "c7f70b90-9085-4c44-807a-048d039c7647",
   "metadata": {},
   "outputs": [],
   "source": []
  },
  {
   "cell_type": "code",
   "execution_count": null,
   "id": "227f23c6-e9f9-4473-9466-d7d1c67672ed",
   "metadata": {},
   "outputs": [],
   "source": []
  }
 ],
 "metadata": {
  "kernelspec": {
   "display_name": "Python 3 (ipykernel)",
   "language": "python",
   "name": "python3"
  },
  "language_info": {
   "codemirror_mode": {
    "name": "ipython",
    "version": 3
   },
   "file_extension": ".py",
   "mimetype": "text/x-python",
   "name": "python",
   "nbconvert_exporter": "python",
   "pygments_lexer": "ipython3",
   "version": "3.11.11"
  }
 },
 "nbformat": 4,
 "nbformat_minor": 5
}
